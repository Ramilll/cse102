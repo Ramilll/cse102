{
 "cells": [
  {
   "cell_type": "code",
   "execution_count": null,
   "metadata": {},
   "outputs": [],
   "source": [
    "%load_ext autoreload\n",
    "%autoreload 2\n",
    "\n",
    "from bits import * \n",
    "from lfsr import *\n",
    "from huffman import *"
   ]
  },
  {
   "cell_type": "code",
   "execution_count": null,
   "metadata": {},
   "outputs": [],
   "source": [
    "s = \"Ramil Nazmeev is the champion and absolute winner in life and forever\"\n",
    "\n",
    "d = huffman_stats(s)\n",
    "root = huffman_tree(d)"
   ]
  },
  {
   "cell_type": "code",
   "execution_count": null,
   "metadata": {},
   "outputs": [],
   "source": [
    "d1 = {'m': '0000', 'h': '0001000', '.': '0001001', 'f': '0001010', ',': '0001011', 'p': '00011', 'o': '0010', 'a': '0011', 'i': '010', 's': '0110', 'd': '0111', 'u': '1000', 'r': '1001', 'n': '1010', 'c': '101100', 'g': '1011010', 'E': '10110110', 'v': '10110111', 'l': '10111', 't': '1100', 'e': '1101', ' ': '111'}\n",
    "d2 = {'i': '010', 'm': '0000', 'o': '0010', 'e': '1101', 'f': '0001010', 'E': '10110110', 'g': '1011010', 'l': '10111', 'p': '00011', 'n': '1010', 'r': '1001', 'u': '1000', ' ': '111', 'c': '101100', '.': '0001001', 'b': '110010010', ',': '0001011', 'h': '0001000', 'q': '1100110', 'v': '10110111', 'x': '11001111', 'a': '0011', 't': '1100', 's': '0110', 'd': '0111'}"
   ]
  },
  {
   "cell_type": "code",
   "execution_count": null,
   "metadata": {},
   "outputs": [],
   "source": [
    "d2[\"b\"]"
   ]
  },
  {
   "cell_type": "code",
   "execution_count": null,
   "metadata": {},
   "outputs": [],
   "source": [
    "root = Node(None, Node(None, Node(None, Node(None, Node('m', None, None), Node(None, Node(None, Node(None, Node('h', None, None), Node('.', None, None)), Node(None, Node('f', None, None), Node(',', None, None))), Node('p', None, None))), Node(None, Node('o', None, None), Node('a', None, None))), Node(None, Node('i', None, None), Node(None, Node('s', None, None), Node('d', None, None)))), Node(None, Node(None, Node(None, Node('u', None, None), Node('r', None, None)), Node(None, Node('n', None, None), Node(None, Node(None, Node('c', None, None), Node(None, Node('g', None, None), Node(None, Node('E', None, None), Node('v', None, None)))), Node('l', None, None)))), Node(None, Node(None, Node('t', None, None), Node('e', None, None)), Node(' ', None, None))))\n"
   ]
  },
  {
   "cell_type": "code",
   "execution_count": null,
   "metadata": {},
   "outputs": [],
   "source": [
    "d3 = huffman_codes(root)"
   ]
  },
  {
   "cell_type": "code",
   "execution_count": null,
   "metadata": {},
   "outputs": [],
   "source": [
    "def compare_two_dict(d1, d2):\n",
    "    for key in d1.keys():\n",
    "        if key not in d2:\n",
    "            print(key, \"is not in d2\")\n",
    "        elif d1[key] != d2[key]:\n",
    "            print(key, \"is not equal\")"
   ]
  }
 ],
 "metadata": {
  "kernelspec": {
   "display_name": "Python 3",
   "language": "python",
   "name": "python3"
  },
  "language_info": {
   "codemirror_mode": {
    "name": "ipython",
    "version": 3
   },
   "file_extension": ".py",
   "mimetype": "text/x-python",
   "name": "python",
   "nbconvert_exporter": "python",
   "pygments_lexer": "ipython3",
   "version": "3.11.0"
  },
  "orig_nbformat": 4
 },
 "nbformat": 4,
 "nbformat_minor": 2
}
