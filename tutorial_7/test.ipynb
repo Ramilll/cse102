{
 "cells": [
  {
   "cell_type": "code",
   "execution_count": null,
   "metadata": {},
   "outputs": [],
   "source": [
    "%load_ext autoreload\n",
    "%autoreload 2\n",
    "\n",
    "from bits import * \n",
    "from lfsr import *\n",
    "from huffman import *"
   ]
  },
  {
   "cell_type": "code",
   "execution_count": null,
   "metadata": {},
   "outputs": [],
   "source": [
    "d = {'E': 1, 'l': 6, 'i': 36, 't': 29, ' ': 51, 'n': 22, 'o': 19, 'e': 41, 'u': 25, 's': 15, 'm': 18, 'd': 17, 'a': 27, 'c': 11, 'p': 10, 'g': 1, 'r': 23, 'q': 4, 'v': 2, 'x': 2, 'b': 1, 'h': 3, 'f': 2, ',': 1, '.': 1}\n",
    "\n",
    "node = huffman_tree(d)"
   ]
  },
  {
   "cell_type": "code",
   "execution_count": null,
   "metadata": {},
   "outputs": [],
   "source": [
    "node"
   ]
  },
  {
   "cell_type": "code",
   "execution_count": null,
   "metadata": {},
   "outputs": [],
   "source": []
  }
 ],
 "metadata": {
  "kernelspec": {
   "display_name": "Python 3",
   "language": "python",
   "name": "python3"
  },
  "language_info": {
   "codemirror_mode": {
    "name": "ipython",
    "version": 3
   },
   "file_extension": ".py",
   "mimetype": "text/x-python",
   "name": "python",
   "nbconvert_exporter": "python",
   "pygments_lexer": "ipython3",
   "version": "3.11.0"
  },
  "orig_nbformat": 4
 },
 "nbformat": 4,
 "nbformat_minor": 2
}
